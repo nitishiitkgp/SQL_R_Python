{
 "cells": [
  {
   "cell_type": "code",
   "execution_count": 1,
   "metadata": {},
   "outputs": [
    {
     "name": "stdout",
     "output_type": "stream",
     "text": [
      "int_list_1 =  [1, 2] \n",
      " int_list_2 =  ['1', '2'] \n",
      " \n",
      " str_list_1 =  ['line', 'str'] \n",
      " str_list_2 =  ['line', 'str']\n"
     ]
    }
   ],
   "source": [
    "# string/int to list\n",
    "line_int = '1 2'\n",
    "line_str = 'line str'\n",
    "\n",
    "int_list_1 = list(map(int, line_int.split()))\n",
    "int_list_2 = list(map(str, line_int.split()))\n",
    "\n",
    "str_list_1 = line_str.split()\n",
    "str_list_2 = list(map(str, line_str.split()))\n",
    "\n",
    "print('int_list_1 = ',int_list_1,'\\n',\n",
    "      'int_list_2 = ',int_list_2,'\\n','\\n',\n",
    "    'str_list_1 = ', str_list_1,'\\n',\n",
    "    'str_list_2 = ', str_list_2,)"
   ]
  },
  {
   "cell_type": "code",
   "execution_count": 4,
   "metadata": {},
   "outputs": [
    {
     "name": "stdout",
     "output_type": "stream",
     "text": [
      "string: string_reversal \n",
      " inverted string: lasrever_gnirts\n"
     ]
    }
   ],
   "source": [
    "# string reversal \n",
    "string = 'string_reversal'\n",
    "print('string:',string,'\\n',\n",
    "      'inverted string:',string[::-1])"
   ]
  }
 ],
 "metadata": {
  "kernelspec": {
   "display_name": "Python 3",
   "language": "python",
   "name": "python3"
  },
  "language_info": {
   "codemirror_mode": {
    "name": "ipython",
    "version": 3
   },
   "file_extension": ".py",
   "mimetype": "text/x-python",
   "name": "python",
   "nbconvert_exporter": "python",
   "pygments_lexer": "ipython3",
   "version": "3.7.7"
  }
 },
 "nbformat": 4,
 "nbformat_minor": 4
}
