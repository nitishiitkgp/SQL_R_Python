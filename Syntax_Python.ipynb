{
 "cells": [
  {
   "cell_type": "code",
   "execution_count": 52,
   "metadata": {},
   "outputs": [
    {
     "name": "stdout",
     "output_type": "stream",
     "text": [
      "['1', '3', '4', '2']\n",
      "None\n",
      "['1', '2', '3', '4']\n"
     ]
    }
   ],
   "source": [
    "# sorting \n",
    "arr = list(map(str, '1 3 4 2'.split()))\n",
    "print(arr)\n",
    "print(arr.sort()) # not working \n",
    "print(sorted(arr)) # working "
   ]
  },
  {
   "cell_type": "code",
   "execution_count": 41,
   "metadata": {},
   "outputs": [
    {
     "name": "stdout",
     "output_type": "stream",
     "text": [
      "int_list_1 =  [1, 2] \n",
      " int_list_2 =  ['1', '2'] \n",
      " \n",
      " str_list_1 =  ['line', 'str'] \n",
      " str_list_2 =  ['line', 'str'] \n",
      "\n",
      "first:  line \n",
      " second:  str\n"
     ]
    }
   ],
   "source": [
    "# string/int to list\n",
    "line_int = '1 2'\n",
    "line_str = 'line str'\n",
    "\n",
    "int_list_1 = list(map(int, line_int.split()))\n",
    "int_list_2 = list(map(str, line_int.split()))\n",
    "\n",
    "str_list_1 = line_str.split()\n",
    "str_list_2 = list(map(str, line_str.split()))\n",
    "\n",
    "print('int_list_1 = ',int_list_1,'\\n',\n",
    "      'int_list_2 = ',int_list_2,'\\n','\\n',\n",
    "    'str_list_1 = ', str_list_1,'\\n',\n",
    "    'str_list_2 = ', str_list_2,'\\n')\n",
    "\n",
    "n,p = map(str, line_str.split())\n",
    "print('first: ',n, '\\n',\n",
    "     'second: ',p)"
   ]
  },
  {
   "cell_type": "code",
   "execution_count": 12,
   "metadata": {},
   "outputs": [
    {
     "name": "stdout",
     "output_type": "stream",
     "text": [
      "['', '11', '', '', '111', '']\n",
      "[0, 2, 0, 0, 3, 0]\n",
      "3\n"
     ]
    }
   ],
   "source": [
    "# split and counting\n",
    "string = '0110001110'\n",
    "string = ''\n",
    "print(string.split('0'))\n",
    "print(list(map(len,string.split('0'))))\n",
    "print(max(list(map(len,string.split('0')))))"
   ]
  },
  {
   "cell_type": "code",
   "execution_count": 4,
   "metadata": {},
   "outputs": [
    {
     "name": "stdout",
     "output_type": "stream",
     "text": [
      "string: string_reversal \n",
      " inverted string: lasrever_gnirts\n"
     ]
    }
   ],
   "source": [
    "# string reversal \n",
    "string = 'string_reversal'\n",
    "print('string:',string,'\\n',\n",
    "      'inverted string:',string[::-1])"
   ]
  },
  {
   "cell_type": "code",
   "execution_count": 5,
   "metadata": {},
   "outputs": [
    {
     "name": "stdout",
     "output_type": "stream",
     "text": [
      "5\n"
     ]
    }
   ],
   "source": [
    "# lambda function \n",
    "f = lambda a,b: a+b\n",
    "print(f(2,3))"
   ]
  },
  {
   "cell_type": "code",
   "execution_count": 47,
   "metadata": {},
   "outputs": [
    {
     "name": "stdout",
     "output_type": "stream",
     "text": [
      "Number:  2.5 \n",
      " Round:  2 \n",
      " Floor:  2 \n",
      " Ceiling:  3 \n",
      " int: 2\n"
     ]
    }
   ],
   "source": [
    "# round, floor and ceil\n",
    "from math import floor, ceil\n",
    "number = 2.5\n",
    "print('Number: ',number,'\\n',\n",
    "      'Round: ',round(number),'\\n',\n",
    "      'Floor: ',floor(number),'\\n',\n",
    "      'Ceiling: ',ceil(number),'\\n',\n",
    "      'int:', int(number))"
   ]
  },
  {
   "cell_type": "markdown",
   "metadata": {},
   "source": [
    "<b> // </b> # the floor division // rounds the result down to the nearest whole number\n",
    "\n",
    "<b>int: </b> cast float objects to int objects by discarding the fraction part using the int() function. This function demonstrates so called rounding towards zero behavior:"
   ]
  },
  {
   "cell_type": "code",
   "execution_count": 55,
   "metadata": {},
   "outputs": [
    {
     "name": "stdout",
     "output_type": "stream",
     "text": [
      "2\n",
      "2\n",
      "3\n",
      "3\n",
      "-1\n",
      "-1\n"
     ]
    }
   ],
   "source": [
    "print(5//2)\n",
    "print(int(5/2))\n",
    "print(10//3)\n",
    "print(int(10/3))\n",
    "print(int(-1.3))  # gives -1\n",
    "print(int(-1.7))  # gives -1"
   ]
  },
  {
   "cell_type": "code",
   "execution_count": 24,
   "metadata": {},
   "outputs": [
    {
     "data": {
      "text/plain": [
       "4"
      ]
     },
     "execution_count": 24,
     "metadata": {},
     "output_type": "execute_result"
    }
   ],
   "source": [
    "# odd length\n",
    "arr = [1,2,3,4,5,6,7]\n",
    "n = len(arr)\n",
    "print(arr[n//2])\n"
   ]
  },
  {
   "cell_type": "code",
   "execution_count": 67,
   "metadata": {},
   "outputs": [
    {
     "name": "stdout",
     "output_type": "stream",
     "text": [
      "3\n",
      "4\n",
      "[3, 4]\n"
     ]
    }
   ],
   "source": [
    "# even length\n",
    "arr = [1,2,3,4,5,6]\n",
    "n = len(arr)\n",
    "print(arr[n//2-1])\n",
    "print(arr[n//2])\n",
    "print(arr[n//2-1: n//2+1])"
   ]
  },
  {
   "cell_type": "code",
   "execution_count": 89,
   "metadata": {},
   "outputs": [
    {
     "name": "stdout",
     "output_type": "stream",
     "text": [
      "['a', 'b', 'a', 'b']\n",
      "[1, 2, 3, 1, 2, 3, 1, 2, 3]\n",
      "[1, 2, 3, 1, 4, 5, 6]\n"
     ]
    }
   ],
   "source": [
    "# list repetition \n",
    "print(['a','b']*2)\n",
    "print([1,2,3]*3)\n",
    "print([1,2,3]+[1,4,5,6])"
   ]
  },
  {
   "cell_type": "code",
   "execution_count": 92,
   "metadata": {},
   "outputs": [
    {
     "name": "stdout",
     "output_type": "stream",
     "text": [
      "['a', 'b', 'b', 'c', 'c', 'c', 'd', 'd', 'd', 'd']\n",
      "['a', 'b', 'b', 'c', 'c', 'c', 'd', 'd', 'd', 'd']\n",
      "['a', 'b', 'b', 'c', 'c', 'c', 'd', 'd', 'd', 'd']\n"
     ]
    }
   ],
   "source": [
    "# create repetition\n",
    "data = ['a','b','c','d']\n",
    "# data = [1,2,3,4]\n",
    "freq = [1,2,3,4]\n",
    "\n",
    "# 1st method\n",
    "rep_data_1 = []\n",
    "for i in range(len(data)):\n",
    "    rep_data_1 = rep_data_1 + [data[i]] * freq[i]\n",
    "    \n",
    "    \n",
    "# 2nd method: using extend\n",
    "rep_data_2 = []\n",
    "for i in range(len(data)):\n",
    "    rep_data_2.extend([data[i]] * freq[i])\n",
    "    \n",
    "    \n",
    "# 3rd method: for loop\n",
    "rep_data_3 = []\n",
    "for i in range(len(data)):\n",
    "    x=data[i]\n",
    "    y=freq[i]\n",
    "    for j in range(y):\n",
    "        rep_data_3.append(x)\n",
    "        \n",
    "        \n",
    "print(rep_data_1)\n",
    "print(rep_data_2)\n",
    "print(rep_data_3)"
   ]
  },
  {
   "cell_type": "code",
   "execution_count": 97,
   "metadata": {},
   "outputs": [
    {
     "name": "stdout",
     "output_type": "stream",
     "text": [
      "[(1, 1), (1, 2), (1, 3), (1, 4), (1, 5), (1, 6), (2, 1), (2, 2), (2, 3), (2, 4), (2, 5), (2, 6), (3, 1), (3, 2), (3, 3), (3, 4), (3, 5), (3, 6), (4, 1), (4, 2), (4, 3), (4, 4), (4, 5), (4, 6), (5, 1), (5, 2), (5, 3), (5, 4), (5, 5), (5, 6), (6, 1), (6, 2), (6, 3), (6, 4), (6, 5), (6, 6)]\n",
      "0.1111111111111111\n"
     ]
    }
   ],
   "source": [
    "# Find all possible outcomes\n",
    "list_all = [(x,  y) for x in range(1, 7) for y in range(1, 7)]\n",
    "\n",
    "print(list_all)\n",
    "\n",
    "# from list_all find the outcomes where x + y equals 6\n",
    "step1 = [(x, y) for x, y in list_all if x + y == 6]\n",
    "\n",
    "# from step1 find the outcomes where x is not equal to y\n",
    "step2 = [(x, y) for x, y in step1 if x != y]\n",
    "\n",
    "# calculate the probability\n",
    "prob = len(step2) / len(list_all) #== 1/9\n",
    "print(prob)"
   ]
  },
  {
   "cell_type": "code",
   "execution_count": 8,
   "metadata": {},
   "outputs": [
    {
     "name": "stdout",
     "output_type": "stream",
     "text": [
      "String:  aa 12  adf  \n",
      "after removing whitespace:aa 12  adf\n"
     ]
    }
   ],
   "source": [
    "# to remove trailing or leading whitespace\n",
    "# strip()\n",
    "string = ' aa 12  adf  '\n",
    "print('String: ', string,'\\n'\n",
    "     'after removing whitespace:', string.strip(), sep = '')"
   ]
  },
  {
   "cell_type": "code",
   "execution_count": 18,
   "metadata": {},
   "outputs": [
    {
     "name": "stdout",
     "output_type": "stream",
     "text": [
      "invalid literal for int() with base 10: '123a' \n",
      " Bad String\n",
      "The 'try except' is finished\n"
     ]
    }
   ],
   "source": [
    "# try catch\n",
    "string = '123a'\n",
    "S = string.strip()\n",
    "\n",
    "try:\n",
    "    print(int(S))\n",
    "    \n",
    "except ValueError as e:\n",
    "    print(e,'\\n',\n",
    "         'Bad String')\n",
    "except:\n",
    "    print (\"Something else went wrong\")\n",
    "    \n",
    "finally:\n",
    "    print(\"The 'try except' is finished\")\n"
   ]
  },
  {
   "cell_type": "code",
   "execution_count": null,
   "metadata": {},
   "outputs": [],
   "source": [
    " "
   ]
  },
  {
   "cell_type": "markdown",
   "metadata": {},
   "source": [
    "Raise an exception\n",
    "\n",
    "As a Python developer you can choose to throw an exception if a condition occurs.\n",
    "\n",
    "To throw (or raise) an exception, use the raise keyword."
   ]
  },
  {
   "cell_type": "code",
   "execution_count": 30,
   "metadata": {},
   "outputs": [
    {
     "ename": "TypeError",
     "evalue": "Only integers are allowed.",
     "output_type": "error",
     "traceback": [
      "\u001b[1;31m---------------------------------------------------------------------------\u001b[0m",
      "\u001b[1;31mTypeError\u001b[0m                                 Traceback (most recent call last)",
      "\u001b[1;32m<ipython-input-30-50583f0e30a2>\u001b[0m in \u001b[0;36m<module>\u001b[1;34m\u001b[0m\n\u001b[0;32m      2\u001b[0m \u001b[0mx\u001b[0m \u001b[1;33m=\u001b[0m \u001b[1;34m'123'\u001b[0m\u001b[1;33m\u001b[0m\u001b[1;33m\u001b[0m\u001b[0m\n\u001b[0;32m      3\u001b[0m \u001b[1;32mif\u001b[0m \u001b[1;32mnot\u001b[0m \u001b[0mtype\u001b[0m\u001b[1;33m(\u001b[0m\u001b[0mx\u001b[0m\u001b[1;33m)\u001b[0m \u001b[1;32mis\u001b[0m \u001b[0mint\u001b[0m\u001b[1;33m:\u001b[0m\u001b[1;33m\u001b[0m\u001b[1;33m\u001b[0m\u001b[0m\n\u001b[1;32m----> 4\u001b[1;33m   \u001b[1;32mraise\u001b[0m \u001b[0mTypeError\u001b[0m\u001b[1;33m(\u001b[0m\u001b[1;34m\"Only integers are allowed.\"\u001b[0m\u001b[1;33m)\u001b[0m\u001b[1;33m\u001b[0m\u001b[1;33m\u001b[0m\u001b[0m\n\u001b[0m\u001b[0;32m      5\u001b[0m \u001b[1;32melse\u001b[0m\u001b[1;33m:\u001b[0m\u001b[1;33m\u001b[0m\u001b[1;33m\u001b[0m\u001b[0m\n\u001b[0;32m      6\u001b[0m     \u001b[0mprint\u001b[0m\u001b[1;33m(\u001b[0m\u001b[1;34m'Input: '\u001b[0m\u001b[1;33m,\u001b[0m \u001b[0mx\u001b[0m\u001b[1;33m)\u001b[0m\u001b[1;33m\u001b[0m\u001b[1;33m\u001b[0m\u001b[0m\n",
      "\u001b[1;31mTypeError\u001b[0m: Only integers are allowed."
     ]
    }
   ],
   "source": [
    "# The raise keyword is used to raise an exception.\n",
    "x = '123'\n",
    "if not type(x) is int:\n",
    "  raise TypeError(\"Only integers are allowed.\")\n",
    "else:\n",
    "    print('Input: ', x)\n",
    "\n",
    "print('done')"
   ]
  },
  {
   "cell_type": "code",
   "execution_count": 29,
   "metadata": {},
   "outputs": [
    {
     "ename": "Exception",
     "evalue": "Sorry, no numbers below zero",
     "output_type": "error",
     "traceback": [
      "\u001b[1;31m---------------------------------------------------------------------------\u001b[0m",
      "\u001b[1;31mException\u001b[0m                                 Traceback (most recent call last)",
      "\u001b[1;32m<ipython-input-29-f4f099f3f83d>\u001b[0m in \u001b[0;36m<module>\u001b[1;34m\u001b[0m\n\u001b[0;32m      1\u001b[0m \u001b[0mx\u001b[0m \u001b[1;33m=\u001b[0m \u001b[1;33m-\u001b[0m\u001b[1;36m1\u001b[0m\u001b[1;33m\u001b[0m\u001b[1;33m\u001b[0m\u001b[0m\n\u001b[0;32m      2\u001b[0m \u001b[1;32mif\u001b[0m \u001b[0mx\u001b[0m \u001b[1;33m<\u001b[0m \u001b[1;36m0\u001b[0m\u001b[1;33m:\u001b[0m\u001b[1;33m\u001b[0m\u001b[1;33m\u001b[0m\u001b[0m\n\u001b[1;32m----> 3\u001b[1;33m   \u001b[1;32mraise\u001b[0m \u001b[0mException\u001b[0m\u001b[1;33m(\u001b[0m\u001b[1;34m\"Sorry, no numbers below zero\"\u001b[0m\u001b[1;33m)\u001b[0m\u001b[1;33m\u001b[0m\u001b[1;33m\u001b[0m\u001b[0m\n\u001b[0m\u001b[0;32m      4\u001b[0m \u001b[1;33m\u001b[0m\u001b[0m\n\u001b[0;32m      5\u001b[0m \u001b[0mprint\u001b[0m\u001b[1;33m(\u001b[0m\u001b[1;34m'done'\u001b[0m\u001b[1;33m)\u001b[0m\u001b[1;33m\u001b[0m\u001b[1;33m\u001b[0m\u001b[0m\n",
      "\u001b[1;31mException\u001b[0m: Sorry, no numbers below zero"
     ]
    }
   ],
   "source": [
    "x = -1\n",
    "if x < 0:\n",
    "  raise Exception(\"Sorry, no numbers below zero\")\n",
    "\n",
    "print('done')"
   ]
  },
  {
   "cell_type": "code",
   "execution_count": 38,
   "metadata": {},
   "outputs": [
    {
     "name": "stdout",
     "output_type": "stream",
     "text": [
      "The entry is a\n",
      "Oops! <class 'ValueError'> occurred.\n",
      "Next entry.\n",
      "\n",
      "The entry is 0\n",
      "Oops! <class 'ZeroDivisionError'> occurred.\n",
      "Next entry.\n",
      "\n",
      "The entry is 2\n",
      "The reciprocal of 2 is 0.5\n",
      "\n",
      "The entry is 3\n",
      "The reciprocal of 3 is 0.3333333333333333\n",
      "\n",
      "The entry is bqw\n",
      "Oops! <class 'ValueError'> occurred.\n",
      "Next entry.\n",
      "\n",
      "The entry is 5\n",
      "The reciprocal of 5 is 0.2\n",
      "\n"
     ]
    }
   ],
   "source": [
    "# import module sys to get the type of exception\n",
    "import sys\n",
    "\n",
    "randomList = ['a', 0, 2, 3, 'bqw', 5]\n",
    "\n",
    "for entry in randomList:\n",
    "    try:\n",
    "        print(\"The entry is\", entry)\n",
    "        r = 1/int(entry)\n",
    "        print(\"The reciprocal of\", entry, \"is\", r)\n",
    "        print()\n",
    "        #break\n",
    "    except:\n",
    "        print(\"Oops!\", sys.exc_info()[0], \"occurred.\")\n",
    "        print(\"Next entry.\")\n",
    "        print()\n"
   ]
  },
  {
   "cell_type": "markdown",
   "metadata": {},
   "source": [
    "### Appending in an array"
   ]
  },
  {
   "cell_type": "code",
   "execution_count": 49,
   "metadata": {},
   "outputs": [
    {
     "name": "stdout",
     "output_type": "stream",
     "text": [
      "None\n"
     ]
    },
    {
     "ename": "AttributeError",
     "evalue": "'NoneType' object has no attribute 'append'",
     "output_type": "error",
     "traceback": [
      "\u001b[1;31m---------------------------------------------------------------------------\u001b[0m",
      "\u001b[1;31mAttributeError\u001b[0m                            Traceback (most recent call last)",
      "\u001b[1;32m<ipython-input-49-0ab68ae6c70e>\u001b[0m in \u001b[0;36m<module>\u001b[1;34m\u001b[0m\n\u001b[0;32m      1\u001b[0m \u001b[0mx\u001b[0m \u001b[1;33m=\u001b[0m \u001b[1;33m[\u001b[0m\u001b[1;33m]\u001b[0m\u001b[1;33m\u001b[0m\u001b[1;33m\u001b[0m\u001b[0m\n\u001b[0;32m      2\u001b[0m \u001b[1;32mfor\u001b[0m \u001b[0mi\u001b[0m \u001b[1;32min\u001b[0m \u001b[0mrange\u001b[0m\u001b[1;33m(\u001b[0m\u001b[1;36m11\u001b[0m\u001b[1;33m)\u001b[0m\u001b[1;33m:\u001b[0m\u001b[1;33m\u001b[0m\u001b[1;33m\u001b[0m\u001b[0m\n\u001b[1;32m----> 3\u001b[1;33m     \u001b[0mx\u001b[0m \u001b[1;33m=\u001b[0m \u001b[0mx\u001b[0m\u001b[1;33m.\u001b[0m\u001b[0mappend\u001b[0m\u001b[1;33m(\u001b[0m\u001b[0mi\u001b[0m\u001b[1;33m)\u001b[0m\u001b[1;33m\u001b[0m\u001b[1;33m\u001b[0m\u001b[0m\n\u001b[0m\u001b[0;32m      4\u001b[0m     \u001b[0mprint\u001b[0m\u001b[1;33m(\u001b[0m\u001b[0mx\u001b[0m\u001b[1;33m)\u001b[0m\u001b[1;33m\u001b[0m\u001b[1;33m\u001b[0m\u001b[0m\n",
      "\u001b[1;31mAttributeError\u001b[0m: 'NoneType' object has no attribute 'append'"
     ]
    }
   ],
   "source": [
    "x = []\n",
    "for i in range(11):\n",
    "    x = x.append(i)\n",
    "    print(x)"
   ]
  },
  {
   "cell_type": "code",
   "execution_count": 51,
   "metadata": {},
   "outputs": [
    {
     "name": "stdout",
     "output_type": "stream",
     "text": [
      "[0]\n",
      "[0, 1]\n",
      "[0, 1, 2]\n",
      "[0, 1, 2, 3]\n",
      "[0, 1, 2, 3, 4]\n"
     ]
    }
   ],
   "source": [
    "x = []\n",
    "for i in range(5):\n",
    "    x.append(i)\n",
    "    print(x)"
   ]
  }
 ],
 "metadata": {
  "kernelspec": {
   "display_name": "Python 3",
   "language": "python",
   "name": "python3"
  },
  "language_info": {
   "codemirror_mode": {
    "name": "ipython",
    "version": 3
   },
   "file_extension": ".py",
   "mimetype": "text/x-python",
   "name": "python",
   "nbconvert_exporter": "python",
   "pygments_lexer": "ipython3",
   "version": "3.7.7"
  }
 },
 "nbformat": 4,
 "nbformat_minor": 4
}
