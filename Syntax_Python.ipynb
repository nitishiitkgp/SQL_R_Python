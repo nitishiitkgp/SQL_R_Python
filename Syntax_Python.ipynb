{
 "cells": [
  {
   "cell_type": "code",
   "execution_count": 1,
   "metadata": {},
   "outputs": [
    {
     "name": "stdout",
     "output_type": "stream",
     "text": [
      "int_list_1 =  [1, 2] \n",
      " int_list_2 =  ['1', '2'] \n",
      " \n",
      " str_list_1 =  ['line', 'str'] \n",
      " str_list_2 =  ['line', 'str']\n"
     ]
    }
   ],
   "source": [
    "# string/int to list\n",
    "line_int = '1 2'\n",
    "line_str = 'line str'\n",
    "\n",
    "int_list_1 = list(map(int, line_int.split()))\n",
    "int_list_2 = list(map(str, line_int.split()))\n",
    "\n",
    "str_list_1 = line_str.split()\n",
    "str_list_2 = list(map(str, line_str.split()))\n",
    "\n",
    "print('int_list_1 = ',int_list_1,'\\n',\n",
    "      'int_list_2 = ',int_list_2,'\\n','\\n',\n",
    "    'str_list_1 = ', str_list_1,'\\n',\n",
    "    'str_list_2 = ', str_list_2,)"
   ]
  },
  {
   "cell_type": "code",
   "execution_count": 12,
   "metadata": {},
   "outputs": [
    {
     "name": "stdout",
     "output_type": "stream",
     "text": [
      "['', '11', '', '', '111', '']\n",
      "[0, 2, 0, 0, 3, 0]\n",
      "3\n"
     ]
    }
   ],
   "source": [
    "# split and counting\n",
    "string = '0110001110'\n",
    "string = ''\n",
    "print(string.split('0'))\n",
    "print(list(map(len,string.split('0'))))\n",
    "print(max(list(map(len,string.split('0')))))"
   ]
  },
  {
   "cell_type": "code",
   "execution_count": 4,
   "metadata": {},
   "outputs": [
    {
     "name": "stdout",
     "output_type": "stream",
     "text": [
      "string: string_reversal \n",
      " inverted string: lasrever_gnirts\n"
     ]
    }
   ],
   "source": [
    "# string reversal \n",
    "string = 'string_reversal'\n",
    "print('string:',string,'\\n',\n",
    "      'inverted string:',string[::-1])"
   ]
  },
  {
   "cell_type": "code",
   "execution_count": 5,
   "metadata": {},
   "outputs": [
    {
     "name": "stdout",
     "output_type": "stream",
     "text": [
      "5\n"
     ]
    }
   ],
   "source": [
    "# lambda function \n",
    "f = lambda a,b: a+b\n",
    "print(f(2,3))"
   ]
  },
  {
   "cell_type": "code",
   "execution_count": 11,
   "metadata": {},
   "outputs": [
    {
     "name": "stdout",
     "output_type": "stream",
     "text": [
      "Number:  2.5 \n",
      " Round:  2 \n",
      " Floor:  2 \n",
      " Ceiling:  3\n"
     ]
    }
   ],
   "source": [
    "# round, floor and ceil\n",
    "from math import floor, ceil\n",
    "number = 2.5\n",
    "print('Number: ',number,'\\n',\n",
    "      'Round: ',round(number),'\\n',\n",
    "      'Floor: ',floor(number),'\\n',\n",
    "      'Ceiling: ',ceil(number))"
   ]
  }
 ],
 "metadata": {
  "kernelspec": {
   "display_name": "Python 3",
   "language": "python",
   "name": "python3"
  },
  "language_info": {
   "codemirror_mode": {
    "name": "ipython",
    "version": 3
   },
   "file_extension": ".py",
   "mimetype": "text/x-python",
   "name": "python",
   "nbconvert_exporter": "python",
   "pygments_lexer": "ipython3",
   "version": "3.7.7"
  }
 },
 "nbformat": 4,
 "nbformat_minor": 4
}
