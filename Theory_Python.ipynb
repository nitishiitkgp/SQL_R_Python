{
 "cells": [
  {
   "cell_type": "markdown",
   "metadata": {},
   "source": [
    "### Difference between Array and Link List"
   ]
  },
  {
   "cell_type": "markdown",
   "metadata": {},
   "source": [
    "![image1](./images/array_vs_link_list.jpg)"
   ]
  },
  {
   "cell_type": "markdown",
   "metadata": {},
   "source": [
    "### Interface"
   ]
  },
  {
   "cell_type": "markdown",
   "metadata": {},
   "source": [
    "![interface](./images/interface.png)"
   ]
  },
  {
   "cell_type": "code",
   "execution_count": 11,
   "metadata": {},
   "outputs": [
    {
     "name": "stdout",
     "output_type": "stream",
     "text": [
      "I implemented: AdvancedArithmetic\n",
      "1\n"
     ]
    }
   ],
   "source": [
    "# example \n",
    "class AdvancedArithmetic(object):\n",
    "    def divisorSum(n):\n",
    "        raise NotImplementedError\n",
    "\n",
    "class Calculator(AdvancedArithmetic):\n",
    "    def divisorSum(self, n):\n",
    "        max_divisor = n//2 + 1\n",
    "        all_divisor = []\n",
    "\n",
    "        for i in range(1, max_divisor):\n",
    "            if n%i==0:\n",
    "                all_divisor.append(i)\n",
    "        return(sum(all_divisor)+n)\n",
    "\n",
    "\n",
    "n = 1\n",
    "my_calculator = Calculator()\n",
    "s = my_calculator.divisorSum(n)\n",
    "print(\"I implemented: \" + type(my_calculator).__bases__[0].__name__)\n",
    "print(s)"
   ]
  }
 ],
 "metadata": {
  "kernelspec": {
   "display_name": "Python 3",
   "language": "python",
   "name": "python3"
  },
  "language_info": {
   "codemirror_mode": {
    "name": "ipython",
    "version": 3
   },
   "file_extension": ".py",
   "mimetype": "text/x-python",
   "name": "python",
   "nbconvert_exporter": "python",
   "pygments_lexer": "ipython3",
   "version": "3.7.7"
  }
 },
 "nbformat": 4,
 "nbformat_minor": 4
}
