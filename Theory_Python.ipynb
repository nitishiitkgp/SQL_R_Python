{
 "cells": [
  {
   "cell_type": "markdown",
   "metadata": {},
   "source": [
    "#### Difference between List and Array in Python"
   ]
  },
  {
   "cell_type": "markdown",
   "metadata": {},
   "source": [
    "List: A list in Python is a collection of items which can contain elements of multiple data types, which may be either numeric, character logical values, etc. It is an ordered collection supporting negative indexing. A list can be created using [] containing data values.\n",
    "Contents of lists can be easily merged and copied using python’s inbuilt functions."
   ]
  },
  {
   "cell_type": "code",
   "execution_count": 1,
   "metadata": {},
   "outputs": [
    {
     "name": "stdout",
     "output_type": "stream",
     "text": [
      "[1, 'Yash', ['a', 'e']]\n"
     ]
    }
   ],
   "source": [
    "# creating a list containing elements  \n",
    "# belonging to different data types \n",
    "sample_list = [1,\"Yash\",['a','e']] \n",
    "print(sample_list) "
   ]
  },
  {
   "cell_type": "markdown",
   "metadata": {},
   "source": [
    "Array: An array is a vector containing homogeneous elements i.e. belonging to the same data type. Elements are allocated with contiguous memory locations allowing easy modification, that is, addition, deletion, accessing of elements. In Python, we have to use the array module to declare arrays. If the elements of an array belong to different data types, an exception “Incompatible data types” is thrown."
   ]
  },
  {
   "cell_type": "code",
   "execution_count": 2,
   "metadata": {},
   "outputs": [
    {
     "name": "stdout",
     "output_type": "stream",
     "text": [
      "1\n",
      "2\n",
      "3\n"
     ]
    }
   ],
   "source": [
    "# creating an array containing same  \n",
    "# data type elements  \n",
    "import array \n",
    "  \n",
    "sample_array = array.array('i', [1, 2, 3])   \n",
    "  \n",
    "# accessing elements of array \n",
    "for i in sample_array: \n",
    "     print(i) "
   ]
  },
  {
   "cell_type": "markdown",
   "metadata": {},
   "source": [
    "![image1](./images/list_array_diff.PNG)"
   ]
  },
  {
   "cell_type": "markdown",
   "metadata": {},
   "source": [
    "#### Difference between Array and Link List"
   ]
  },
  {
   "cell_type": "markdown",
   "metadata": {},
   "source": [
    "![image1](./images/array_vs_link_list.jpg)"
   ]
  },
  {
   "cell_type": "markdown",
   "metadata": {},
   "source": [
    "### LinkedList\n",
    "https://www.youtube.com/watch?v=JlMyYuY1aXU&ab_channel=BrianFaure\n",
    "\n",
    "https://www.youtube.com/watch?v=qp8u-frRAnU&t=865s&ab_channel=codebasics\n",
    "\n",
    "https://github.com/bfaure/Python3_Data_Structures/blob/master/Linked_List/main.py  "
   ]
  },
  {
   "cell_type": "markdown",
   "metadata": {},
   "source": [
    "![node](./images/linked_list_node.PNG)\n",
    "![node](./images/doble_LL.PNG)\n",
    "![node](./images/LL_efficiency.PNG)"
   ]
  }
 ],
 "metadata": {
  "kernelspec": {
   "display_name": "Python 3",
   "language": "python",
   "name": "python3"
  },
  "language_info": {
   "codemirror_mode": {
    "name": "ipython",
    "version": 3
   },
   "file_extension": ".py",
   "mimetype": "text/x-python",
   "name": "python",
   "nbconvert_exporter": "python",
   "pygments_lexer": "ipython3",
   "version": "3.8.3"
  }
 },
 "nbformat": 4,
 "nbformat_minor": 4
}
