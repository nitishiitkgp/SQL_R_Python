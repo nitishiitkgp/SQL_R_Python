{
 "cells": [
  {
   "cell_type": "markdown",
   "metadata": {},
   "source": [
    "### Difference between Array and Link List"
   ]
  },
  {
   "cell_type": "markdown",
   "metadata": {},
   "source": [
    "![image1](./images/array_vs_link_list.JPG)\n",
    "\n",
    "<img src=\"./images/array_vs_link_list.JPG\" width=\"800\" />\n",
    "\n",
    "![image1](array_vs_link_list.JPG)\n",
    "\n",
    "\n",
    "\n",
    "<img src=\"array_vs_link_list.JPG\" width=\"800\" />"
   ]
  }
 ],
 "metadata": {
  "kernelspec": {
   "display_name": "Python 3",
   "language": "python",
   "name": "python3"
  },
  "language_info": {
   "codemirror_mode": {
    "name": "ipython",
    "version": 3
   },
   "file_extension": ".py",
   "mimetype": "text/x-python",
   "name": "python",
   "nbconvert_exporter": "python",
   "pygments_lexer": "ipython3",
   "version": "3.7.7"
  }
 },
 "nbformat": 4,
 "nbformat_minor": 4
}
