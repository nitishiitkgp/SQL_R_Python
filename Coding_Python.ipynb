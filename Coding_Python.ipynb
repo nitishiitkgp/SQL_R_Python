{
 "cells": [
  {
   "cell_type": "markdown",
   "metadata": {},
   "source": [
    "# hackerrank"
   ]
  },
  {
   "cell_type": "markdown",
   "metadata": {},
   "source": [
    "[Dictionaries and Maps: Phonebook](https://www.hackerrank.com/challenges/30-dictionaries-and-maps/problem)"
   ]
  },
  {
   "cell_type": "code",
   "execution_count": null,
   "metadata": {},
   "outputs": [],
   "source": [
    "n = int(input())\n",
    "phonebook = {}\n",
    "\n",
    "# creating dictionary\n",
    "for i in range(n):\n",
    "    name_phone_input = input()\n",
    "    name_phone_list = list(map(str, name_phone_input.split()))\n",
    "    phonebook[name_phone_list[0]] = name_phone_list[1]\n",
    "\n",
    "# searching in dictionary \n",
    "while(True):\n",
    "    try:\n",
    "        name = input()\n",
    "    except EOFError as e:\n",
    "        break\n",
    "\n",
    "    if name in phonebook.keys():\n",
    "        print(name,'=',phonebook[name], sep='')\n",
    "    else:\n",
    "        print('Not found') "
   ]
  }
 ],
 "metadata": {
  "kernelspec": {
   "display_name": "Python 3",
   "language": "python",
   "name": "python3"
  },
  "language_info": {
   "codemirror_mode": {
    "name": "ipython",
    "version": 3
   },
   "file_extension": ".py",
   "mimetype": "text/x-python",
   "name": "python",
   "nbconvert_exporter": "python",
   "pygments_lexer": "ipython3",
   "version": "3.7.7"
  }
 },
 "nbformat": 4,
 "nbformat_minor": 4
}
