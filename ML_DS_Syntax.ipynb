{
 "cells": [
  {
   "cell_type": "code",
   "execution_count": 1,
   "id": "encouraging-shanghai",
   "metadata": {},
   "outputs": [],
   "source": [
    "import pandas as pd\n",
    "import numpy as np"
   ]
  },
  {
   "cell_type": "markdown",
   "id": "imposed-respect",
   "metadata": {
    "heading_collapsed": true
   },
   "source": [
    "### Numpy Array Operations"
   ]
  },
  {
   "cell_type": "markdown",
   "id": "plain-rainbow",
   "metadata": {
    "heading_collapsed": true,
    "hidden": true
   },
   "source": [
    "#### stacking of 2 arrays "
   ]
  },
  {
   "cell_type": "code",
   "execution_count": 11,
   "id": "perfect-phase",
   "metadata": {
    "hidden": true
   },
   "outputs": [
    {
     "name": "stdout",
     "output_type": "stream",
     "text": [
      "First Array:\n",
      "[[1 2]\n",
      " [3 4]] \n",
      "\n",
      "Second Array:\n",
      "[[5 6]\n",
      " [7 8]] \n",
      "\n",
      "Stack the two arrays along axis 0:\n",
      "[[[1 2]\n",
      "  [3 4]]\n",
      "\n",
      " [[5 6]\n",
      "  [7 8]]] \n",
      "\n",
      "Stack the two arrays along axis 1:\n",
      "[[[1 2]\n",
      "  [5 6]]\n",
      "\n",
      " [[3 4]\n",
      "  [7 8]]]\n",
      "Default stacking:\n",
      "[[[1 2]\n",
      "  [3 4]]\n",
      "\n",
      " [[5 6]\n",
      "  [7 8]]]\n"
     ]
    }
   ],
   "source": [
    "a = np.array([[1,2],[3,4]]) \n",
    "\n",
    "print('First Array:') \n",
    "print(a,'\\n') \n",
    "b = np.array([[5,6],[7,8]]) \n",
    "\n",
    "print('Second Array:')\n",
    "print(b,'\\n')   \n",
    "\n",
    "print('Stack the two arrays along axis 0:')\n",
    "print(np.stack((a,b),0),'\\n')\n",
    "\n",
    "print('Stack the two arrays along axis 1:')\n",
    "print(np.stack((a,b),1))\n",
    "\n",
    "print('Default stacking:')\n",
    "print(np.stack((a,b)))"
   ]
  },
  {
   "cell_type": "code",
   "execution_count": 36,
   "id": "detected-japan",
   "metadata": {
    "hidden": true
   },
   "outputs": [
    {
     "data": {
      "text/plain": [
       "array([[1, 2],\n",
       "       [3, 4],\n",
       "       [5, 6]])"
      ]
     },
     "execution_count": 36,
     "metadata": {},
     "output_type": "execute_result"
    }
   ],
   "source": [
    "# list stacking\n",
    "lst1 = [[1,2],[3,4],[5,6]]\n",
    "lst2 = [[7,8],[9,10],[11],[12,13,14]]\n",
    "np.stack(lst1)"
   ]
  },
  {
   "cell_type": "code",
   "execution_count": 37,
   "id": "brown-going",
   "metadata": {
    "hidden": true
   },
   "outputs": [
    {
     "data": {
      "text/plain": [
       "[[1, 2], [3, 4], [5, 6], [7, 8], [9, 10], [11], [12, 13, 14]]"
      ]
     },
     "execution_count": 37,
     "metadata": {},
     "output_type": "execute_result"
    }
   ],
   "source": [
    "lst1 + lst2"
   ]
  },
  {
   "cell_type": "code",
   "execution_count": 38,
   "id": "hybrid-anatomy",
   "metadata": {
    "hidden": true
   },
   "outputs": [
    {
     "data": {
      "text/plain": [
       "[[1, 2], [3, 4], [5, 6], [[7, 8], [9, 10], [11], [12, 13, 14]]]"
      ]
     },
     "execution_count": 38,
     "metadata": {},
     "output_type": "execute_result"
    }
   ],
   "source": [
    "lst1.append(lst2)\n",
    "lst1"
   ]
  },
  {
   "cell_type": "markdown",
   "id": "accomplished-perfume",
   "metadata": {
    "heading_collapsed": true,
    "hidden": true
   },
   "source": [
    "#### Array Reshaping"
   ]
  },
  {
   "cell_type": "code",
   "execution_count": 43,
   "id": "korean-trunk",
   "metadata": {
    "hidden": true
   },
   "outputs": [
    {
     "name": "stdout",
     "output_type": "stream",
     "text": [
      "[[ 1  2  3]\n",
      " [ 4  5  6]\n",
      " [ 7  8  9]\n",
      " [10 11 12]]\n"
     ]
    }
   ],
   "source": [
    "# Reshape From 1-D to 2-D\n",
    "arr = np.array([1, 2, 3, 4, 5, 6, 7, 8, 9, 10, 11, 12])\n",
    "newarr = arr.reshape(4, 3)\n",
    "print(newarr)"
   ]
  },
  {
   "cell_type": "code",
   "execution_count": 45,
   "id": "regional-candy",
   "metadata": {
    "hidden": true
   },
   "outputs": [
    {
     "name": "stdout",
     "output_type": "stream",
     "text": [
      "[[[ 1  2]\n",
      "  [ 3  4]\n",
      "  [ 5  6]]\n",
      "\n",
      " [[ 7  8]\n",
      "  [ 9 10]\n",
      "  [11 12]]]\n"
     ]
    }
   ],
   "source": [
    "# Reshape From 1-D to 3-D\n",
    "arr = np.array([1, 2, 3, 4, 5, 6, 7, 8, 9, 10, 11, 12])\n",
    "newarr = arr.reshape(2, 3, 2)\n",
    "print(newarr)"
   ]
  },
  {
   "cell_type": "code",
   "execution_count": 47,
   "id": "extraordinary-cameroon",
   "metadata": {
    "hidden": true
   },
   "outputs": [
    {
     "name": "stdout",
     "output_type": "stream",
     "text": [
      "Original array : \n",
      " [0 1 2 3 4 5 6 7]\n",
      "\n",
      "array reshaped with 2 rows and 4 columns : \n",
      " [[0 1 2 3]\n",
      " [4 5 6 7]]\n",
      "\n",
      "array reshaped with 2 rows and 4 columns : \n",
      " [[0 1]\n",
      " [2 3]\n",
      " [4 5]\n",
      " [6 7]]\n",
      "\n",
      "Original array reshaped to 3D : \n",
      " [[[0 1]\n",
      "  [2 3]]\n",
      "\n",
      " [[4 5]\n",
      "  [6 7]]]\n"
     ]
    }
   ],
   "source": [
    "array = np.arange(8)\n",
    "print(\"Original array : \\n\", array)\n",
    "  \n",
    "# shape array with 2 rows and 4 columns\n",
    "array = np.arange(8).reshape(2, 4)\n",
    "print(\"\\narray reshaped with 2 rows and 4 columns : \\n\", array)\n",
    "  \n",
    "# shape array with 4 rows and 2 columns\n",
    "array = np.arange(8).reshape(4 ,2)\n",
    "print(\"\\narray reshaped with 2 rows and 4 columns : \\n\", array)\n",
    "  \n",
    "# Constructs 3D array\n",
    "array = np.arange(8).reshape(2, 2, 2)\n",
    "print(\"\\nOriginal array reshaped to 3D : \\n\", array)"
   ]
  },
  {
   "cell_type": "markdown",
   "id": "republican-brown",
   "metadata": {
    "heading_collapsed": true,
    "hidden": true
   },
   "source": [
    "#### Repeat a sequence (np.repeat and np.tile)"
   ]
  },
  {
   "cell_type": "markdown",
   "id": "available-trade",
   "metadata": {
    "hidden": true
   },
   "source": [
    "np.repeat: repeats individual elements \\n\n",
    "np.tile: repeats entire sequence"
   ]
  },
  {
   "cell_type": "code",
   "execution_count": 54,
   "id": "elect-diagram",
   "metadata": {
    "hidden": true
   },
   "outputs": [
    {
     "data": {
      "text/plain": [
       "array([ 0,  0,  0,  1,  1,  1,  2,  2,  2,  3,  3,  3,  4,  4,  4,  5,  5,\n",
       "        5,  6,  6,  6,  7,  7,  7,  8,  8,  8,  9,  9,  9, 10, 10, 10, 11,\n",
       "       11, 11, 12, 12, 12, 13, 13, 13, 14, 14, 14, 15, 15, 15, 16, 16, 16,\n",
       "       17, 17, 17, 18, 18, 18, 19, 19, 19, 20, 20, 20, 21, 21, 21, 22, 22,\n",
       "       22, 23, 23, 23, 24, 24, 24, 25, 25, 25, 26, 26, 26, 27, 27, 27, 28,\n",
       "       28, 28, 29, 29, 29, 30, 30, 30, 31, 31, 31, 32, 32, 32, 33, 33, 33,\n",
       "       34, 34, 34])"
      ]
     },
     "execution_count": 54,
     "metadata": {},
     "output_type": "execute_result"
    }
   ],
   "source": [
    "np.repeat(  list(np.arange(0,35,1))  ,3)"
   ]
  },
  {
   "cell_type": "code",
   "execution_count": 72,
   "id": "formal-willow",
   "metadata": {
    "hidden": true
   },
   "outputs": [
    {
     "name": "stdout",
     "output_type": "stream",
     "text": [
      "array: [1 2 3] \n",
      " repeated array: [1 2 3 1 2 3 1 2 3] \n",
      " repeated array:\n",
      " [[1 2 3]\n",
      " [1 2 3]\n",
      " [1 2 3]\n",
      " [1 2 3]\n",
      " [1 2 3]]\n"
     ]
    }
   ],
   "source": [
    "an_array = np.array([1,2,3])\n",
    "repeats_array = np.tile(an_array, 3)\n",
    "repeats_array_1 = np.tile(an_array, (5,1))\n",
    "\n",
    "print('array:',an_array,\n",
    "      '\\n repeated array:',repeats_array,\n",
    "     '\\n repeated array:\\n',repeats_array_1)"
   ]
  },
  {
   "cell_type": "markdown",
   "id": "municipal-surveillance",
   "metadata": {},
   "source": [
    "### Pandas"
   ]
  },
  {
   "cell_type": "markdown",
   "id": "sought-network",
   "metadata": {
    "heading_collapsed": true
   },
   "source": [
    "#### melt:  wide to long"
   ]
  },
  {
   "cell_type": "markdown",
   "id": "homeless-description",
   "metadata": {
    "hidden": true
   },
   "source": [
    "melt: to change the DataFrame format from wide to long, column names are stored in 'variable' column and values are stored in 'value' column "
   ]
  },
  {
   "cell_type": "code",
   "execution_count": 75,
   "id": "under-assist",
   "metadata": {
    "hidden": true
   },
   "outputs": [
    {
     "name": "stdout",
     "output_type": "stream",
     "text": [
      "     Name  ID    Role  Salary\n",
      "0  Pankaj   1     CEO   50000\n",
      "1    Lisa   2  Editor   20000\n",
      "2   David   3  Author   30000 \n",
      "\n",
      "   ID variable   value\n",
      "0   1     Name  Pankaj\n",
      "1   2     Name    Lisa\n",
      "2   3     Name   David\n",
      "3   1     Role     CEO\n",
      "4   2     Role  Editor\n",
      "5   3     Role  Author\n",
      "6   1   Salary   50000\n",
      "7   2   Salary   20000\n",
      "8   3   Salary   30000\n"
     ]
    }
   ],
   "source": [
    "d1 = {\"Name\": [\"Pankaj\", \"Lisa\", \"David\"], \n",
    "      \"ID\": [1, 2, 3], \n",
    "      \"Role\": [\"CEO\", \"Editor\", \"Author\"],\n",
    "      \"Salary\":[50000,20000,30000]}\n",
    "\n",
    "df = pd.DataFrame(d1)\n",
    "\n",
    "print(df,'\\n')\n",
    "\n",
    "df_melted = pd.melt(df, id_vars=[\"ID\"], value_vars=[\"Name\", \"Role\",\"Salary\"])\n",
    "\n",
    "print(df_melted)"
   ]
  },
  {
   "cell_type": "code",
   "execution_count": 79,
   "id": "polar-friendly",
   "metadata": {
    "hidden": true
   },
   "outputs": [
    {
     "data": {
      "text/html": [
       "<div>\n",
       "<style scoped>\n",
       "    .dataframe tbody tr th:only-of-type {\n",
       "        vertical-align: middle;\n",
       "    }\n",
       "\n",
       "    .dataframe tbody tr th {\n",
       "        vertical-align: top;\n",
       "    }\n",
       "\n",
       "    .dataframe thead th {\n",
       "        text-align: right;\n",
       "    }\n",
       "</style>\n",
       "<table border=\"1\" class=\"dataframe\">\n",
       "  <thead>\n",
       "    <tr style=\"text-align: right;\">\n",
       "      <th></th>\n",
       "      <th>ID</th>\n",
       "      <th>Name</th>\n",
       "      <th>Attribute</th>\n",
       "      <th>Value</th>\n",
       "    </tr>\n",
       "  </thead>\n",
       "  <tbody>\n",
       "    <tr>\n",
       "      <th>0</th>\n",
       "      <td>1</td>\n",
       "      <td>Pankaj</td>\n",
       "      <td>Role</td>\n",
       "      <td>CEO</td>\n",
       "    </tr>\n",
       "    <tr>\n",
       "      <th>1</th>\n",
       "      <td>2</td>\n",
       "      <td>Lisa</td>\n",
       "      <td>Role</td>\n",
       "      <td>Editor</td>\n",
       "    </tr>\n",
       "    <tr>\n",
       "      <th>2</th>\n",
       "      <td>3</td>\n",
       "      <td>David</td>\n",
       "      <td>Role</td>\n",
       "      <td>Author</td>\n",
       "    </tr>\n",
       "    <tr>\n",
       "      <th>3</th>\n",
       "      <td>1</td>\n",
       "      <td>Pankaj</td>\n",
       "      <td>Salary</td>\n",
       "      <td>50000</td>\n",
       "    </tr>\n",
       "    <tr>\n",
       "      <th>4</th>\n",
       "      <td>2</td>\n",
       "      <td>Lisa</td>\n",
       "      <td>Salary</td>\n",
       "      <td>20000</td>\n",
       "    </tr>\n",
       "    <tr>\n",
       "      <th>5</th>\n",
       "      <td>3</td>\n",
       "      <td>David</td>\n",
       "      <td>Salary</td>\n",
       "      <td>30000</td>\n",
       "    </tr>\n",
       "  </tbody>\n",
       "</table>\n",
       "</div>"
      ],
      "text/plain": [
       "   ID    Name Attribute   Value\n",
       "0   1  Pankaj      Role     CEO\n",
       "1   2    Lisa      Role  Editor\n",
       "2   3   David      Role  Author\n",
       "3   1  Pankaj    Salary   50000\n",
       "4   2    Lisa    Salary   20000\n",
       "5   3   David    Salary   30000"
      ]
     },
     "execution_count": 79,
     "metadata": {},
     "output_type": "execute_result"
    }
   ],
   "source": [
    "# Multiple Columns as id_vars\n",
    "df_melted_1 = pd.melt(df, id_vars=[\"ID\",\"Name\"], value_vars=[\"Role\",\"Salary\"], var_name=\"Attribute\", value_name=\"Value\")\n",
    "df_melted_1"
   ]
  },
  {
   "cell_type": "markdown",
   "id": "nutritional-judge",
   "metadata": {
    "heading_collapsed": true
   },
   "source": [
    "#### Pivot: Unmelting DataFrame using pivot() function"
   ]
  },
  {
   "cell_type": "markdown",
   "id": "domestic-durham",
   "metadata": {
    "hidden": true
   },
   "source": [
    "pivot() function to unmelt a DataFrame object and get the original dataframe. The pivot() function ‘index’ parameter value should be same as the ‘id_vars’ value. The ‘columns’ value should be passed as the name of the ‘variable’ column."
   ]
  },
  {
   "cell_type": "code",
   "execution_count": 93,
   "id": "responsible-privilege",
   "metadata": {
    "hidden": true
   },
   "outputs": [
    {
     "name": "stdout",
     "output_type": "stream",
     "text": [
      "           value               \n",
      "variable    Name    Role Salary\n",
      "ID                             \n",
      "1         Pankaj     CEO  50000\n",
      "2           Lisa  Editor  20000\n",
      "3          David  Author  30000 \n",
      "\n",
      "         ID   value               \n",
      "variable       Name    Role Salary\n",
      "0         1  Pankaj     CEO  50000\n",
      "1         2    Lisa  Editor  20000\n",
      "2         3   David  Author  30000\n"
     ]
    }
   ],
   "source": [
    "df_unmelted = df_melted.pivot(index='ID', columns='variable')\n",
    "print(df_unmelted,'\\n')\n",
    "\n",
    "print(df_unmelted.reset_index())"
   ]
  },
  {
   "cell_type": "code",
   "execution_count": 94,
   "id": "owned-parker",
   "metadata": {
    "hidden": true
   },
   "outputs": [
    {
     "name": "stdout",
     "output_type": "stream",
     "text": [
      "   ID    Name    Role Salary\n",
      "0   1  Pankaj     CEO  50000\n",
      "1   2    Lisa  Editor  20000\n",
      "2   3   David  Author  30000\n"
     ]
    }
   ],
   "source": [
    "df_unmelted = df_unmelted['value'].reset_index()\n",
    "df_unmelted.columns.name = None\n",
    "print(df_unmelted)"
   ]
  },
  {
   "cell_type": "code",
   "execution_count": null,
   "id": "liquid-vaccine",
   "metadata": {
    "hidden": true
   },
   "outputs": [],
   "source": []
  }
 ],
 "metadata": {
  "kernelspec": {
   "display_name": "Python 3",
   "language": "python",
   "name": "python3"
  },
  "language_info": {
   "codemirror_mode": {
    "name": "ipython",
    "version": 3
   },
   "file_extension": ".py",
   "mimetype": "text/x-python",
   "name": "python",
   "nbconvert_exporter": "python",
   "pygments_lexer": "ipython3",
   "version": "3.8.8"
  }
 },
 "nbformat": 4,
 "nbformat_minor": 5
}
