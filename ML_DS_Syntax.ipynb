{
 "cells": [
  {
   "cell_type": "code",
   "execution_count": 1,
   "id": "tight-arcade",
   "metadata": {},
   "outputs": [],
   "source": [
    "import pandas as pd\n",
    "import numpy as np"
   ]
  },
  {
   "cell_type": "markdown",
   "id": "ordinary-enhancement",
   "metadata": {},
   "source": [
    "### Numpy Array Operations"
   ]
  },
  {
   "cell_type": "markdown",
   "id": "falling-insurance",
   "metadata": {
    "heading_collapsed": true
   },
   "source": [
    "#### stacking of 2 arrays "
   ]
  },
  {
   "cell_type": "code",
   "execution_count": 11,
   "id": "velvet-chrome",
   "metadata": {
    "hidden": true
   },
   "outputs": [
    {
     "name": "stdout",
     "output_type": "stream",
     "text": [
      "First Array:\n",
      "[[1 2]\n",
      " [3 4]] \n",
      "\n",
      "Second Array:\n",
      "[[5 6]\n",
      " [7 8]] \n",
      "\n",
      "Stack the two arrays along axis 0:\n",
      "[[[1 2]\n",
      "  [3 4]]\n",
      "\n",
      " [[5 6]\n",
      "  [7 8]]] \n",
      "\n",
      "Stack the two arrays along axis 1:\n",
      "[[[1 2]\n",
      "  [5 6]]\n",
      "\n",
      " [[3 4]\n",
      "  [7 8]]]\n",
      "Default stacking:\n",
      "[[[1 2]\n",
      "  [3 4]]\n",
      "\n",
      " [[5 6]\n",
      "  [7 8]]]\n"
     ]
    }
   ],
   "source": [
    "a = np.array([[1,2],[3,4]]) \n",
    "\n",
    "print('First Array:') \n",
    "print(a,'\\n') \n",
    "b = np.array([[5,6],[7,8]]) \n",
    "\n",
    "print('Second Array:')\n",
    "print(b,'\\n')   \n",
    "\n",
    "print('Stack the two arrays along axis 0:')\n",
    "print(np.stack((a,b),0),'\\n')\n",
    "\n",
    "print('Stack the two arrays along axis 1:')\n",
    "print(np.stack((a,b),1))\n",
    "\n",
    "print('Default stacking:')\n",
    "print(np.stack((a,b)))"
   ]
  },
  {
   "cell_type": "code",
   "execution_count": 36,
   "id": "imported-measure",
   "metadata": {
    "hidden": true
   },
   "outputs": [
    {
     "data": {
      "text/plain": [
       "array([[1, 2],\n",
       "       [3, 4],\n",
       "       [5, 6]])"
      ]
     },
     "execution_count": 36,
     "metadata": {},
     "output_type": "execute_result"
    }
   ],
   "source": [
    "# list stacking\n",
    "lst1 = [[1,2],[3,4],[5,6]]\n",
    "lst2 = [[7,8],[9,10],[11],[12,13,14]]\n",
    "np.stack(lst1)"
   ]
  },
  {
   "cell_type": "code",
   "execution_count": 37,
   "id": "enhanced-assault",
   "metadata": {
    "hidden": true
   },
   "outputs": [
    {
     "data": {
      "text/plain": [
       "[[1, 2], [3, 4], [5, 6], [7, 8], [9, 10], [11], [12, 13, 14]]"
      ]
     },
     "execution_count": 37,
     "metadata": {},
     "output_type": "execute_result"
    }
   ],
   "source": [
    "lst1 + lst2"
   ]
  },
  {
   "cell_type": "code",
   "execution_count": 38,
   "id": "fatal-edwards",
   "metadata": {
    "hidden": true
   },
   "outputs": [
    {
     "data": {
      "text/plain": [
       "[[1, 2], [3, 4], [5, 6], [[7, 8], [9, 10], [11], [12, 13, 14]]]"
      ]
     },
     "execution_count": 38,
     "metadata": {},
     "output_type": "execute_result"
    }
   ],
   "source": [
    "lst1.append(lst2)\n",
    "lst1"
   ]
  },
  {
   "cell_type": "markdown",
   "id": "industrial-murray",
   "metadata": {
    "heading_collapsed": true
   },
   "source": [
    "#### Array Reshaping"
   ]
  },
  {
   "cell_type": "code",
   "execution_count": 43,
   "id": "personal-thong",
   "metadata": {
    "hidden": true
   },
   "outputs": [
    {
     "name": "stdout",
     "output_type": "stream",
     "text": [
      "[[ 1  2  3]\n",
      " [ 4  5  6]\n",
      " [ 7  8  9]\n",
      " [10 11 12]]\n"
     ]
    }
   ],
   "source": [
    "# Reshape From 1-D to 2-D\n",
    "arr = np.array([1, 2, 3, 4, 5, 6, 7, 8, 9, 10, 11, 12])\n",
    "newarr = arr.reshape(4, 3)\n",
    "print(newarr)"
   ]
  },
  {
   "cell_type": "code",
   "execution_count": 45,
   "id": "dynamic-checkout",
   "metadata": {
    "hidden": true
   },
   "outputs": [
    {
     "name": "stdout",
     "output_type": "stream",
     "text": [
      "[[[ 1  2]\n",
      "  [ 3  4]\n",
      "  [ 5  6]]\n",
      "\n",
      " [[ 7  8]\n",
      "  [ 9 10]\n",
      "  [11 12]]]\n"
     ]
    }
   ],
   "source": [
    "# Reshape From 1-D to 3-D\n",
    "arr = np.array([1, 2, 3, 4, 5, 6, 7, 8, 9, 10, 11, 12])\n",
    "newarr = arr.reshape(2, 3, 2)\n",
    "print(newarr)"
   ]
  },
  {
   "cell_type": "code",
   "execution_count": 47,
   "id": "political-story",
   "metadata": {
    "hidden": true
   },
   "outputs": [
    {
     "name": "stdout",
     "output_type": "stream",
     "text": [
      "Original array : \n",
      " [0 1 2 3 4 5 6 7]\n",
      "\n",
      "array reshaped with 2 rows and 4 columns : \n",
      " [[0 1 2 3]\n",
      " [4 5 6 7]]\n",
      "\n",
      "array reshaped with 2 rows and 4 columns : \n",
      " [[0 1]\n",
      " [2 3]\n",
      " [4 5]\n",
      " [6 7]]\n",
      "\n",
      "Original array reshaped to 3D : \n",
      " [[[0 1]\n",
      "  [2 3]]\n",
      "\n",
      " [[4 5]\n",
      "  [6 7]]]\n"
     ]
    }
   ],
   "source": [
    "array = np.arange(8)\n",
    "print(\"Original array : \\n\", array)\n",
    "  \n",
    "# shape array with 2 rows and 4 columns\n",
    "array = np.arange(8).reshape(2, 4)\n",
    "print(\"\\narray reshaped with 2 rows and 4 columns : \\n\", array)\n",
    "  \n",
    "# shape array with 4 rows and 2 columns\n",
    "array = np.arange(8).reshape(4 ,2)\n",
    "print(\"\\narray reshaped with 2 rows and 4 columns : \\n\", array)\n",
    "  \n",
    "# Constructs 3D array\n",
    "array = np.arange(8).reshape(2, 2, 2)\n",
    "print(\"\\nOriginal array reshaped to 3D : \\n\", array)"
   ]
  },
  {
   "cell_type": "code",
   "execution_count": null,
   "id": "challenging-absence",
   "metadata": {
    "hidden": true
   },
   "outputs": [],
   "source": []
  }
 ],
 "metadata": {
  "kernelspec": {
   "display_name": "Python 3",
   "language": "python",
   "name": "python3"
  },
  "language_info": {
   "codemirror_mode": {
    "name": "ipython",
    "version": 3
   },
   "file_extension": ".py",
   "mimetype": "text/x-python",
   "name": "python",
   "nbconvert_exporter": "python",
   "pygments_lexer": "ipython3",
   "version": "3.8.8"
  }
 },
 "nbformat": 4,
 "nbformat_minor": 5
}
